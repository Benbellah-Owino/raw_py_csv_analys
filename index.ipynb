{
 "cells": [
  {
   "cell_type": "markdown",
   "id": "ec05c07a",
   "metadata": {},
   "source": [
    "# **Data Analysis of a csv file using only python**"
   ]
  },
  {
   "cell_type": "code",
   "execution_count": 15,
   "id": "0b8fd14c-a97d-48ad-9e65-4ac8907a3095",
   "metadata": {},
   "outputs": [],
   "source": [
    "data_path = \"./data/Kings_County_Real_Estate_Sales.csv\""
   ]
  },
  {
   "cell_type": "markdown",
   "id": "180beedf",
   "metadata": {},
   "source": [
    "## Opening csv file using raw python"
   ]
  },
  {
   "cell_type": "code",
   "execution_count": 16,
   "id": "3dfd86c9-cbd6-473b-be95-f27113384d0a",
   "metadata": {},
   "outputs": [
    {
     "name": "stdout",
     "output_type": "stream",
     "text": [
      "ExciseTaxNbr,Major,Minor,DocumentDate,SalePrice,RecordingNbr,Volume,Page,PlatNbr,PlatType,PlatLot,PlatBlock,SellerName,BuyerName,PropertyType,PrincipalUse,SaleInstrument,AFForestLand,AFCurrentUseLand,AFNonProfitUse,AFHistoricProperty,SaleReason,PropertyClass,SaleWarning\n",
      "\n"
     ]
    }
   ],
   "source": [
    "with open(data_path) as data:\n",
    "    #print(data.readlines()) #Uncomment to print all the lines in the csv file\n",
    "    print(data.readline()) #To only read the top line"
   ]
  },
  {
   "cell_type": "markdown",
   "id": "88f20f47-e8e4-4751-8d11-1ffb968e44d8",
   "metadata": {},
   "source": [
    "## Opening csv file using the **csv** library"
   ]
  },
  {
   "cell_type": "code",
   "execution_count": 17,
   "id": "78b5aa4b-110e-412e-8056-41c130088352",
   "metadata": {},
   "outputs": [],
   "source": [
    "import csv"
   ]
  },
  {
   "cell_type": "code",
   "execution_count": 18,
   "id": "bfa2f253-e657-44d4-85ca-2e5c85210054",
   "metadata": {},
   "outputs": [],
   "source": [
    "sales = []\n",
    "with open(data_path) as csv_data:\n",
    "    reader = csv.DictReader(csv_data)\n",
    "    for row in reader:\n",
    "        sales.append(row)"
   ]
  },
  {
   "cell_type": "code",
   "execution_count": 19,
   "id": "4b0effc4-9dc1-462a-9f27-b00ec38a5039",
   "metadata": {},
   "outputs": [
    {
     "data": {
      "text/plain": [
       "[{'ExciseTaxNbr': '2687551',\n",
       "  'Major': '138860',\n",
       "  'Minor': '110',\n",
       "  'DocumentDate': '08/21/2014',\n",
       "  'SalePrice': '245000',\n",
       "  'RecordingNbr': '20140828001436',\n",
       "  'Volume': '   ',\n",
       "  'Page': '   ',\n",
       "  'PlatNbr': '      ',\n",
       "  'PlatType': ' ',\n",
       "  'PlatLot': '              ',\n",
       "  'PlatBlock': '       ',\n",
       "  'SellerName': 'WENKLE NOEL SMITH -TRUSTEE                        ',\n",
       "  'BuyerName': 'ALEXANDER APRIL                                   ',\n",
       "  'PropertyType': '3',\n",
       "  'PrincipalUse': '6',\n",
       "  'SaleInstrument': '3',\n",
       "  'AFForestLand': 'N',\n",
       "  'AFCurrentUseLand': 'N',\n",
       "  'AFNonProfitUse': 'N',\n",
       "  'AFHistoricProperty': 'N',\n",
       "  'SaleReason': '1',\n",
       "  'PropertyClass': '8',\n",
       "  'SaleWarning': ' '},\n",
       " {'ExciseTaxNbr': '3080093',\n",
       "  'Major': '82204',\n",
       "  'Minor': '9037',\n",
       "  'DocumentDate': '10/27/2020',\n",
       "  'SalePrice': '0',\n",
       "  'RecordingNbr': '20201102000765',\n",
       "  'Volume': '   ',\n",
       "  'Page': '   ',\n",
       "  'PlatNbr': '      ',\n",
       "  'PlatType': ' ',\n",
       "  'PlatLot': '              ',\n",
       "  'PlatBlock': '       ',\n",
       "  'SellerName': 'BALA RAJNI                                        ',\n",
       "  'BuyerName': 'SINGH JOGA+BALA RAJNI                             ',\n",
       "  'PropertyType': '11',\n",
       "  'PrincipalUse': '6',\n",
       "  'SaleInstrument': '15',\n",
       "  'AFForestLand': 'N',\n",
       "  'AFCurrentUseLand': 'N',\n",
       "  'AFNonProfitUse': 'N',\n",
       "  'AFHistoricProperty': 'N',\n",
       "  'SaleReason': '18',\n",
       "  'PropertyClass': '8',\n",
       "  'SaleWarning': '18 51'},\n",
       " {'ExciseTaxNbr': '1235111',\n",
       "  'Major': '664885',\n",
       "  'Minor': '40',\n",
       "  'DocumentDate': '07/09/1991',\n",
       "  'SalePrice': '0',\n",
       "  'RecordingNbr': '199203161090  ',\n",
       "  'Volume': '071',\n",
       "  'Page': '001',\n",
       "  'PlatNbr': '664885',\n",
       "  'PlatType': 'C',\n",
       "  'PlatLot': 'B102          ',\n",
       "  'PlatBlock': '       ',\n",
       "  'SellerName': 'HERRMAN JEFFREY A+PAULINE A                       ',\n",
       "  'BuyerName': 'HERRMAN PAULINE A TTEE                            ',\n",
       "  'PropertyType': '3',\n",
       "  'PrincipalUse': '0',\n",
       "  'SaleInstrument': '26',\n",
       "  'AFForestLand': 'N',\n",
       "  'AFCurrentUseLand': 'N',\n",
       "  'AFNonProfitUse': 'N',\n",
       "  'AFHistoricProperty': 'N',\n",
       "  'SaleReason': '18',\n",
       "  'PropertyClass': '3',\n",
       "  'SaleWarning': '11'},\n",
       " {'ExciseTaxNbr': '2704079',\n",
       "  'Major': '423943',\n",
       "  'Minor': '50',\n",
       "  'DocumentDate': '10/11/2014',\n",
       "  'SalePrice': '0',\n",
       "  'RecordingNbr': '20141205000558',\n",
       "  'Volume': '   ',\n",
       "  'Page': '   ',\n",
       "  'PlatNbr': '      ',\n",
       "  'PlatType': ' ',\n",
       "  'PlatLot': '              ',\n",
       "  'PlatBlock': '       ',\n",
       "  'SellerName': 'STEPHENS ANTHONY P                                ',\n",
       "  'BuyerName': 'STEPHENS ANTHONY P                                ',\n",
       "  'PropertyType': '3',\n",
       "  'PrincipalUse': '6',\n",
       "  'SaleInstrument': '15',\n",
       "  'AFForestLand': 'N',\n",
       "  'AFCurrentUseLand': 'N',\n",
       "  'AFNonProfitUse': 'N',\n",
       "  'AFHistoricProperty': 'N',\n",
       "  'SaleReason': '18',\n",
       "  'PropertyClass': '8',\n",
       "  'SaleWarning': '18 31 51'},\n",
       " {'ExciseTaxNbr': '2584094',\n",
       "  'Major': '403700',\n",
       "  'Minor': '715',\n",
       "  'DocumentDate': '01/04/2013',\n",
       "  'SalePrice': '0',\n",
       "  'RecordingNbr': '20130110000910',\n",
       "  'Volume': '   ',\n",
       "  'Page': '   ',\n",
       "  'PlatNbr': '      ',\n",
       "  'PlatType': ' ',\n",
       "  'PlatLot': '              ',\n",
       "  'PlatBlock': '       ',\n",
       "  'SellerName': 'PASTORS EDWIN                                     ',\n",
       "  'BuyerName': 'PASTORS KHRISTINA                                 ',\n",
       "  'PropertyType': '3',\n",
       "  'PrincipalUse': '6',\n",
       "  'SaleInstrument': '15',\n",
       "  'AFForestLand': 'N',\n",
       "  'AFCurrentUseLand': 'N',\n",
       "  'AFNonProfitUse': 'N',\n",
       "  'AFHistoricProperty': 'N',\n",
       "  'SaleReason': '11',\n",
       "  'PropertyClass': '8',\n",
       "  'SaleWarning': '18 31 38'}]"
      ]
     },
     "execution_count": 19,
     "metadata": {},
     "output_type": "execute_result"
    }
   ],
   "source": [
    "#printing the first 5 rows\n",
    "sales[0:5]"
   ]
  },
  {
   "cell_type": "code",
   "execution_count": 20,
   "id": "76e52c1c-8790-4468-aa0a-06e638f7727f",
   "metadata": {},
   "outputs": [
    {
     "name": "stdout",
     "output_type": "stream",
     "text": [
      "245000.0\n",
      "0.0\n",
      "0.0\n",
      "0.0\n",
      "0.0\n",
      "560000.0\n",
      "85000.0\n",
      "0.0\n",
      "5755000.0\n",
      "5755000.0\n"
     ]
    },
    {
     "data": {
      "text/plain": [
       "[{'ExciseTaxNbr': '2687551',\n",
       "  'Major': '138860',\n",
       "  'Minor': '110',\n",
       "  'DocumentDate': '08/21/2014',\n",
       "  'SalePrice': 245000.0,\n",
       "  'RecordingNbr': '20140828001436',\n",
       "  'Volume': '   ',\n",
       "  'Page': '   ',\n",
       "  'PlatNbr': '      ',\n",
       "  'PlatType': ' ',\n",
       "  'PlatLot': '              ',\n",
       "  'PlatBlock': '       ',\n",
       "  'SellerName': 'WENKLE NOEL SMITH -TRUSTEE                        ',\n",
       "  'BuyerName': 'ALEXANDER APRIL                                   ',\n",
       "  'PropertyType': '3',\n",
       "  'PrincipalUse': '6',\n",
       "  'SaleInstrument': '3',\n",
       "  'AFForestLand': 'N',\n",
       "  'AFCurrentUseLand': 'N',\n",
       "  'AFNonProfitUse': 'N',\n",
       "  'AFHistoricProperty': 'N',\n",
       "  'SaleReason': '1',\n",
       "  'PropertyClass': '8',\n",
       "  'SaleWarning': ' '},\n",
       " {'ExciseTaxNbr': '3080093',\n",
       "  'Major': '82204',\n",
       "  'Minor': '9037',\n",
       "  'DocumentDate': '10/27/2020',\n",
       "  'SalePrice': 0.0,\n",
       "  'RecordingNbr': '20201102000765',\n",
       "  'Volume': '   ',\n",
       "  'Page': '   ',\n",
       "  'PlatNbr': '      ',\n",
       "  'PlatType': ' ',\n",
       "  'PlatLot': '              ',\n",
       "  'PlatBlock': '       ',\n",
       "  'SellerName': 'BALA RAJNI                                        ',\n",
       "  'BuyerName': 'SINGH JOGA+BALA RAJNI                             ',\n",
       "  'PropertyType': '11',\n",
       "  'PrincipalUse': '6',\n",
       "  'SaleInstrument': '15',\n",
       "  'AFForestLand': 'N',\n",
       "  'AFCurrentUseLand': 'N',\n",
       "  'AFNonProfitUse': 'N',\n",
       "  'AFHistoricProperty': 'N',\n",
       "  'SaleReason': '18',\n",
       "  'PropertyClass': '8',\n",
       "  'SaleWarning': '18 51'},\n",
       " {'ExciseTaxNbr': '1235111',\n",
       "  'Major': '664885',\n",
       "  'Minor': '40',\n",
       "  'DocumentDate': '07/09/1991',\n",
       "  'SalePrice': 0.0,\n",
       "  'RecordingNbr': '199203161090  ',\n",
       "  'Volume': '071',\n",
       "  'Page': '001',\n",
       "  'PlatNbr': '664885',\n",
       "  'PlatType': 'C',\n",
       "  'PlatLot': 'B102          ',\n",
       "  'PlatBlock': '       ',\n",
       "  'SellerName': 'HERRMAN JEFFREY A+PAULINE A                       ',\n",
       "  'BuyerName': 'HERRMAN PAULINE A TTEE                            ',\n",
       "  'PropertyType': '3',\n",
       "  'PrincipalUse': '0',\n",
       "  'SaleInstrument': '26',\n",
       "  'AFForestLand': 'N',\n",
       "  'AFCurrentUseLand': 'N',\n",
       "  'AFNonProfitUse': 'N',\n",
       "  'AFHistoricProperty': 'N',\n",
       "  'SaleReason': '18',\n",
       "  'PropertyClass': '3',\n",
       "  'SaleWarning': '11'},\n",
       " {'ExciseTaxNbr': '2704079',\n",
       "  'Major': '423943',\n",
       "  'Minor': '50',\n",
       "  'DocumentDate': '10/11/2014',\n",
       "  'SalePrice': 0.0,\n",
       "  'RecordingNbr': '20141205000558',\n",
       "  'Volume': '   ',\n",
       "  'Page': '   ',\n",
       "  'PlatNbr': '      ',\n",
       "  'PlatType': ' ',\n",
       "  'PlatLot': '              ',\n",
       "  'PlatBlock': '       ',\n",
       "  'SellerName': 'STEPHENS ANTHONY P                                ',\n",
       "  'BuyerName': 'STEPHENS ANTHONY P                                ',\n",
       "  'PropertyType': '3',\n",
       "  'PrincipalUse': '6',\n",
       "  'SaleInstrument': '15',\n",
       "  'AFForestLand': 'N',\n",
       "  'AFCurrentUseLand': 'N',\n",
       "  'AFNonProfitUse': 'N',\n",
       "  'AFHistoricProperty': 'N',\n",
       "  'SaleReason': '18',\n",
       "  'PropertyClass': '8',\n",
       "  'SaleWarning': '18 31 51'},\n",
       " {'ExciseTaxNbr': '2584094',\n",
       "  'Major': '403700',\n",
       "  'Minor': '715',\n",
       "  'DocumentDate': '01/04/2013',\n",
       "  'SalePrice': 0.0,\n",
       "  'RecordingNbr': '20130110000910',\n",
       "  'Volume': '   ',\n",
       "  'Page': '   ',\n",
       "  'PlatNbr': '      ',\n",
       "  'PlatType': ' ',\n",
       "  'PlatLot': '              ',\n",
       "  'PlatBlock': '       ',\n",
       "  'SellerName': 'PASTORS EDWIN                                     ',\n",
       "  'BuyerName': 'PASTORS KHRISTINA                                 ',\n",
       "  'PropertyType': '3',\n",
       "  'PrincipalUse': '6',\n",
       "  'SaleInstrument': '15',\n",
       "  'AFForestLand': 'N',\n",
       "  'AFCurrentUseLand': 'N',\n",
       "  'AFNonProfitUse': 'N',\n",
       "  'AFHistoricProperty': 'N',\n",
       "  'SaleReason': '11',\n",
       "  'PropertyClass': '8',\n",
       "  'SaleWarning': '18 31 38'},\n",
       " {'ExciseTaxNbr': '3027422',\n",
       "  'Major': '213043',\n",
       "  'Minor': '120',\n",
       "  'DocumentDate': '12/20/2019',\n",
       "  'SalePrice': 560000.0,\n",
       "  'RecordingNbr': '20191226000848',\n",
       "  'Volume': '   ',\n",
       "  'Page': '   ',\n",
       "  'PlatNbr': '      ',\n",
       "  'PlatType': ' ',\n",
       "  'PlatLot': '              ',\n",
       "  'PlatBlock': '       ',\n",
       "  'SellerName': 'DOYLE REGAN M+STERLING C                          ',\n",
       "  'BuyerName': 'SHAW HEATHER C                                    ',\n",
       "  'PropertyType': '3',\n",
       "  'PrincipalUse': '6',\n",
       "  'SaleInstrument': '3',\n",
       "  'AFForestLand': 'N',\n",
       "  'AFCurrentUseLand': 'N',\n",
       "  'AFNonProfitUse': 'N',\n",
       "  'AFHistoricProperty': 'N',\n",
       "  'SaleReason': '1',\n",
       "  'PropertyClass': '8',\n",
       "  'SaleWarning': ' '},\n",
       " {'ExciseTaxNbr': '1056831',\n",
       "  'Major': '951120',\n",
       "  'Minor': '900',\n",
       "  'DocumentDate': '04/20/1989',\n",
       "  'SalePrice': 85000.0,\n",
       "  'RecordingNbr': '198904260448  ',\n",
       "  'Volume': '117',\n",
       "  'Page': '053',\n",
       "  'PlatNbr': '951120',\n",
       "  'PlatType': 'P',\n",
       "  'PlatLot': '90            ',\n",
       "  'PlatBlock': '       ',\n",
       "  'SellerName': 'STRATHY FLORENCE G                                ',\n",
       "  'BuyerName': 'PORTER DONALD D+EVELYN V                          ',\n",
       "  'PropertyType': '3',\n",
       "  'PrincipalUse': '0',\n",
       "  'SaleInstrument': '2',\n",
       "  'AFForestLand': 'N',\n",
       "  'AFCurrentUseLand': 'N',\n",
       "  'AFNonProfitUse': 'N',\n",
       "  'AFHistoricProperty': 'N',\n",
       "  'SaleReason': '1',\n",
       "  'PropertyClass': '9',\n",
       "  'SaleWarning': '49'},\n",
       " {'ExciseTaxNbr': '1971467',\n",
       "  'Major': '605475',\n",
       "  'Minor': '10',\n",
       "  'DocumentDate': '07/07/2003',\n",
       "  'SalePrice': 0.0,\n",
       "  'RecordingNbr': '20030708003207',\n",
       "  'Volume': '   ',\n",
       "  'Page': '   ',\n",
       "  'PlatNbr': '      ',\n",
       "  'PlatType': ' ',\n",
       "  'PlatLot': '              ',\n",
       "  'PlatBlock': '       ',\n",
       "  'SellerName': 'FUETTERER MARY ANNA C+NIPPER BILL B               ',\n",
       "  'BuyerName': 'NIPPER BILL BRUCE                                 ',\n",
       "  'PropertyType': '6',\n",
       "  'PrincipalUse': '2',\n",
       "  'SaleInstrument': '22',\n",
       "  'AFForestLand': 'N',\n",
       "  'AFCurrentUseLand': 'N',\n",
       "  'AFNonProfitUse': 'N',\n",
       "  'AFHistoricProperty': 'N',\n",
       "  'SaleReason': '8',\n",
       "  'PropertyClass': '3',\n",
       "  'SaleWarning': '12 31 51'},\n",
       " {'ExciseTaxNbr': '1813750',\n",
       "  'Major': '122209',\n",
       "  'Minor': '9002',\n",
       "  'DocumentDate': '04/25/2001',\n",
       "  'SalePrice': 5755000.0,\n",
       "  'RecordingNbr': '20010426001305',\n",
       "  'Volume': '   ',\n",
       "  'Page': '   ',\n",
       "  'PlatNbr': '      ',\n",
       "  'PlatType': ' ',\n",
       "  'PlatLot': '              ',\n",
       "  'PlatBlock': '       ',\n",
       "  'SellerName': 'MANKE LUMBER CO INC                               ',\n",
       "  'BuyerName': 'WASHINGTON STATE OF                               ',\n",
       "  'PropertyType': '1',\n",
       "  'PrincipalUse': '9',\n",
       "  'SaleInstrument': '3',\n",
       "  'AFForestLand': 'N',\n",
       "  'AFCurrentUseLand': 'N',\n",
       "  'AFNonProfitUse': 'N',\n",
       "  'AFHistoricProperty': 'N',\n",
       "  'SaleReason': '1',\n",
       "  'PropertyClass': '7',\n",
       "  'SaleWarning': '11 16 45'},\n",
       " {'ExciseTaxNbr': '1813750',\n",
       "  'Major': '122209',\n",
       "  'Minor': '9001',\n",
       "  'DocumentDate': '04/25/2001',\n",
       "  'SalePrice': 5755000.0,\n",
       "  'RecordingNbr': '20010426001305',\n",
       "  'Volume': '   ',\n",
       "  'Page': '   ',\n",
       "  'PlatNbr': '      ',\n",
       "  'PlatType': ' ',\n",
       "  'PlatLot': '              ',\n",
       "  'PlatBlock': '       ',\n",
       "  'SellerName': 'MANKE LUMBER CO INC                               ',\n",
       "  'BuyerName': 'WASHINGTON STATE OF                               ',\n",
       "  'PropertyType': '1',\n",
       "  'PrincipalUse': '9',\n",
       "  'SaleInstrument': '3',\n",
       "  'AFForestLand': 'N',\n",
       "  'AFCurrentUseLand': 'N',\n",
       "  'AFNonProfitUse': 'N',\n",
       "  'AFHistoricProperty': 'N',\n",
       "  'SaleReason': '1',\n",
       "  'PropertyClass': '7',\n",
       "  'SaleWarning': '11 16 45'}]"
      ]
     },
     "execution_count": 20,
     "metadata": {},
     "output_type": "execute_result"
    }
   ],
   "source": [
    "#Converting the SalePrice column from string to float since it represents **Money** data type\n",
    "for i, sale in enumerate(sales):\n",
    "    sale[\"SalePrice\"] =  float(sale[\"SalePrice\"])\n",
    "    if i<10:\n",
    "        print(sale[\"SalePrice\"])\n",
    "\n",
    "sales[0:10]"
   ]
  },
  {
   "cell_type": "markdown",
   "id": "1fcb0f55-6d89-4860-9aff-5b1616ccd84d",
   "metadata": {},
   "source": [
    "### ***1. Find the Month and Year of each sale and add them to it***"
   ]
  },
  {
   "cell_type": "code",
   "execution_count": 21,
   "id": "cf1b3fcb-4971-456b-ae31-777db4aaee5a",
   "metadata": {},
   "outputs": [
    {
     "name": "stdout",
     "output_type": "stream",
     "text": [
      "21 / 2014 from 08/21/2014\n",
      "27 / 2020 from 10/27/2020\n",
      "9 / 1991 from 07/09/1991\n",
      "11 / 2014 from 10/11/2014\n",
      "4 / 2013 from 01/04/2013\n",
      "20 / 2019 from 12/20/2019\n",
      "20 / 1989 from 04/20/1989\n",
      "7 / 2003 from 07/07/2003\n",
      "25 / 2001 from 04/25/2001\n",
      "25 / 2001 from 04/25/2001\n"
     ]
    }
   ],
   "source": [
    "for sale in (sales):\n",
    "    date_obj =  sale[\"DocumentDate\"]\n",
    "    #print(date_obj)\n",
    "    vals = date_obj.split('/')\n",
    "    sale[\"Month\"] = int(vals[1])\n",
    "    sale[\"Year\"] = int(vals[2])\n",
    "\n",
    "# Printing the year, month and documentdate of the first 10 rows\n",
    "for i in range(0, 10):\n",
    "    month = sales[i][\"Month\"]\n",
    "    year = sales[i][\"Year\"]\n",
    "    print(f\"{month} / {year} from {sales[i][\"DocumentDate\"]}\")"
   ]
  },
  {
   "cell_type": "markdown",
   "id": "c2bae3be-3ddf-4542-a38b-6ed55373dda4",
   "metadata": {},
   "source": [
    "### ***2. Find range of the years in the dataset***"
   ]
  },
  {
   "cell_type": "code",
   "execution_count": 22,
   "id": "5342bc14-40be-44b7-9271-aa74013b484c",
   "metadata": {},
   "outputs": [
    {
     "name": "stdout",
     "output_type": "stream",
     "text": [
      " From 1958 to 2021\n"
     ]
    }
   ],
   "source": [
    "years = [ sale[\"Year\"] for sale in sales]\n",
    "\n",
    "print(f\" From {min(years)} to {max(years)}\")   "
   ]
  },
  {
   "cell_type": "markdown",
   "id": "2d41e264-3915-4493-958b-179b9380ee85",
   "metadata": {},
   "source": [
    "### ***3. Find the number of sales in 2020***"
   ]
  },
  {
   "cell_type": "code",
   "execution_count": 23,
   "id": "6b0d479e-ac34-4928-9327-5f40f33cc054",
   "metadata": {},
   "outputs": [
    {
     "data": {
      "text/plain": [
       "419"
      ]
     },
     "execution_count": 23,
     "metadata": {},
     "output_type": "execute_result"
    }
   ],
   "source": [
    "prop_2020 = [sale for sale in sales if sale[\"Year\"] == 2020]\n",
    "len(prop_2020)"
   ]
  },
  {
   "cell_type": "markdown",
   "id": "d441839f-a674-41ff-810d-26bfc0eb4452",
   "metadata": {},
   "source": [
    "### ***4. Find the mean of sales in 2020***"
   ]
  },
  {
   "cell_type": "code",
   "execution_count": 24,
   "id": "9cc214a2-9e5c-4039-a790-d37cc97a7a5b",
   "metadata": {},
   "outputs": [
    {
     "data": {
      "text/plain": [
       "3575874.61575179"
      ]
     },
     "execution_count": 24,
     "metadata": {},
     "output_type": "execute_result"
    }
   ],
   "source": [
    "saleprices_2020 = [sale[\"SalePrice\"] for sale in prop_2020]\n",
    "sum(saleprices_2020)/ len(saleprices_2020)"
   ]
  },
  {
   "cell_type": "markdown",
   "id": "66ee6da8-d9c7-4d55-9669-5bf21cf985e9",
   "metadata": {},
   "source": [
    "### ***5. How many properties sold in each year***"
   ]
  },
  {
   "cell_type": "code",
   "execution_count": 25,
   "id": "cf634dc1-d25f-4794-806a-41b83207f156",
   "metadata": {},
   "outputs": [
    {
     "data": {
      "text/plain": [
       "[(1958, 1),\n",
       " (1966, 1),\n",
       " (1974, 1),\n",
       " (1976, 1),\n",
       " (1979, 1),\n",
       " (1981, 2),\n",
       " (1982, 32),\n",
       " (1983, 36),\n",
       " (1984, 48),\n",
       " (1985, 44),\n",
       " (1986, 74),\n",
       " (1987, 77),\n",
       " (1988, 66),\n",
       " (1989, 75),\n",
       " (1990, 68),\n",
       " (1991, 81),\n",
       " (1992, 338),\n",
       " (1993, 353),\n",
       " (1994, 267),\n",
       " (1995, 246),\n",
       " (1996, 347),\n",
       " (1997, 306),\n",
       " (1998, 349),\n",
       " (1999, 406),\n",
       " (2000, 279),\n",
       " (2001, 342),\n",
       " (2002, 325),\n",
       " (2003, 380),\n",
       " (2004, 447),\n",
       " (2005, 442),\n",
       " (2006, 389),\n",
       " (2007, 319),\n",
       " (2008, 231),\n",
       " (2009, 264),\n",
       " (2010, 230),\n",
       " (2011, 218),\n",
       " (2012, 364),\n",
       " (2013, 295),\n",
       " (2014, 299),\n",
       " (2015, 376),\n",
       " (2016, 290),\n",
       " (2017, 288),\n",
       " (2018, 281),\n",
       " (2019, 241),\n",
       " (2020, 419),\n",
       " (2021, 61)]"
      ]
     },
     "execution_count": 25,
     "metadata": {},
     "output_type": "execute_result"
    }
   ],
   "source": [
    "sales_per_year = []\n",
    "for i in range(1958, 2022):\n",
    "    sales_this_year = [sale for sale in sales if sale[\"Year\"] == i]\n",
    "    num_sales = len(sales_this_year)\n",
    "    if num_sales > 0:\n",
    "        sales_per_year.append((i, num_sales))\n",
    "    \n",
    "\n",
    "sales_per_year\n",
    "    "
   ]
  },
  {
   "cell_type": "markdown",
   "id": "de0019a9-801e-48c2-9a9e-56ebaa8e32cf",
   "metadata": {},
   "source": [
    "## **Charting the data**"
   ]
  },
  {
   "cell_type": "code",
   "execution_count": 26,
   "id": "76f65aac-93a1-48aa-8b55-8ed9af7fd01e",
   "metadata": {},
   "outputs": [],
   "source": [
    "from matplotlib import pyplot as plt"
   ]
  },
  {
   "cell_type": "code",
   "execution_count": 27,
   "id": "23fae745-6135-4bc3-ae76-47ffd43cd0db",
   "metadata": {},
   "outputs": [
    {
     "data": {
      "image/png": "[encoded data removed]",
      "text/plain": [
       "<Figure size 1000x500 with 1 Axes>"
      ]
     },
     "metadata": {},
     "output_type": "display_data"
    }
   ],
   "source": [
    "# create a figure and one plot\n",
    "fig, ax = plt.subplots(nrows=1, ncols=1, figsize=(10, 5))\n",
    "\n",
    "# place data in a bar chart \n",
    "# where the x-axis is each year and \n",
    "# the y-axis is the number of sales per year\n",
    "ax.bar(x=[sale[0] for sale in sales_per_year],\n",
    "       height=[sale[1] for sale in sales_per_year])\n",
    "\n",
    "# set axis labels\n",
    "ax.set_xlabel(\"Year\")\n",
    "ax.set_ylabel(\"Number of property sales\")\n",
    "\n",
    "# give the bar chart a title\n",
    "ax.set_title(\"Property sales in King County, WA (1900 to 2021)\")\n",
    "\n",
    "# display bar chart clearly\n",
    "fig.tight_layout()"
   ]
  },
  {
   "cell_type": "markdown",
   "id": "721210ec-670f-4486-916b-4d4b6ad66a91",
   "metadata": {},
   "source": [
    "### ***What can you learn from the graph***\n",
    "- I can tell the data is negatively skewed.\n",
    "- \"Explosion\"  of sales from 1992 "
   ]
  }
 ],
 "metadata": {
  "kernelspec": {
   "display_name": "base",
   "language": "python",
   "name": "python3"
  },
  "language_info": {
   "codemirror_mode": {
    "name": "ipython",
    "version": 3
   },
   "file_extension": ".py",
   "mimetype": "text/x-python",
   "name": "python",
   "nbconvert_exporter": "python",
   "pygments_lexer": "ipython3",
   "version": "3.13.5"
  }
 },
 "nbformat": 4,
 "nbformat_minor": 5
}
